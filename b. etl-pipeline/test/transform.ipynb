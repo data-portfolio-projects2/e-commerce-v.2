{
 "cells": [
  {
   "cell_type": "code",
   "execution_count": null,
   "metadata": {},
   "outputs": [],
   "source": [
    "2025-02-12 23:07 - INFO - Checking for missing data...\n",
    "2025-02-12 23:07 - INFO - Missing data found\n",
    "2025-02-12 23:07 - INFO - Saving missing_data to CSV file\n",
    "2025-02-12 23:07 - INFO - Data saved successfully!\n",
    "2025-02-12 23:07 - INFO - Extracting data\n",
    "2025-02-12 23:07 - INFO - Data extracted successfully\n",
    "Function 'extract_df' executed in 0.0472 seconds\n",
    "2025-02-12 23:07 - INFO - Transforming columns into lowercase\n",
    "2025-02-12 23:07 - INFO - Columns successfully transformed\n",
    "Function 'lowercase_col' executed in 0.0016 seconds\n",
    "2025-02-12 23:07 - INFO - Removing trailing spaces\n",
    "2025-02-12 23:07 - INFO - Trailing spaces successfully removed\n",
    "Function 'strip_space' executed in 0.0012 seconds\n",
    "2025-02-12 23:07 - INFO - Adding underscores\n",
    "2025-02-12 23:07 - INFO - Underscore successfully added\n",
    "Function 'replace_' executed in 0.0012 seconds"
   ]
  }
 ],
 "metadata": {
  "language_info": {
   "name": "python"
  }
 },
 "nbformat": 4,
 "nbformat_minor": 2
}
