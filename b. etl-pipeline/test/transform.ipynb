{
 "cells": [
  {
   "cell_type": "code",
   "execution_count": null,
   "metadata": {
    "vscode": {
     "languageId": "sql"
    }
   },
   "outputs": [],
   "source": [
    "🖥️ Function 'extract_df':\n",
    "   🔷 RAM before: 146.53 MB\n",
    "2025-02-13 00:48 - INFO - ⬇️ Extracting data...\n",
    "2025-02-13 00:48 - INFO - ✅ Data extracted successfully\n",
    "   🔷 RAM after:  146.76 MB\n",
    "   ✅ RAM Processing Complete!           100%\n",
    "   🔼 RAM Change: 0.16% increase\n",
    "\n",
    "⏳ Function 'extract_df' executed in 2.1690 seconds\n",
    "2025-02-13 00:48 - INFO - 🔄 Transforming columns into lowercase\n",
    "2025-02-13 00:48 - INFO - ✅ Columns successfully transformed\n",
    "⏳ Function 'lowercase_col' executed in 0.0014 seconds\n",
    "2025-02-13 00:48 - INFO - 🔄 Removing trailing spaces\n",
    "2025-02-13 00:48 - INFO - ✅ Trailing spaces successfully removed\n",
    "⏳ Function 'strip_space' executed in 0.0011 seconds\n",
    "2025-02-13 00:48 - INFO - 🔄 Adding underscores\n",
    "2025-02-13 00:48 - INFO - ✅ Underscore successfully added\n",
    "⏳ Function 'replace_' executed in 0.0013 seconds"
   ]
  }
 ],
 "metadata": {
  "language_info": {
   "name": "python"
  }
 },
 "nbformat": 4,
 "nbformat_minor": 2
}
