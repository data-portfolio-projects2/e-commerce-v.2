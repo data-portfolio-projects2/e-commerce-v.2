{
 "cells": [
  {
   "cell_type": "code",
   "execution_count": null,
   "metadata": {
    "vscode": {
     "languageId": "sql"
    }
   },
   "outputs": [],
   "source": [
    "2025-02-12 23:33 - INFO - Extracting data\n",
    "2025-02-12 23:33 - INFO - Data extracted successfully\n",
    "Function 'extract_df' executed in 0.0561 seconds\n",
    "2025-02-12 23:33 - INFO - Transforming columns into lowercase\n",
    "2025-02-12 23:33 - INFO - Columns successfully transformed\n",
    "Function 'lowercase_col' executed in 0.0014 seconds\n",
    "2025-02-12 23:33 - INFO - Removing trailing spaces\n",
    "2025-02-12 23:33 - INFO - Trailing spaces successfully removed\n",
    "Function 'strip_space' executed in 0.0011 seconds\n",
    "2025-02-12 23:33 - INFO - Adding underscores\n",
    "2025-02-12 23:33 - INFO - Underscore successfully added\n",
    "Function 'replace_' executed in 0.0013 seconds"
   ]
  }
 ],
 "metadata": {
  "language_info": {
   "name": "python"
  }
 },
 "nbformat": 4,
 "nbformat_minor": 2
}
