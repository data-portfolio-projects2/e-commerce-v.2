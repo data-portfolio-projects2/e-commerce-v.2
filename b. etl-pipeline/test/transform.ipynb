{
 "cells": [
  {
   "cell_type": "code",
   "execution_count": null,
   "metadata": {
    "vscode": {
     "languageId": "sql"
    }
   },
   "outputs": [],
   "source": [
    "2025-02-15 17:18 - INFO - ✅ Kaggle API authenticated successfully!\n",
    "⏳ Function 'authenticate_kaggle' executed in 0.0057 seconds\n",
    "\n",
    "🖥️ Function 'download_data':\n",
    "   🔷 RAM before: 133.43 MB\n",
    "2025-02-15 17:18 - INFO - 🔄 Downloading dataset...\n",
    "Dataset URL: https://www.kaggle.com/datasets/cameronseamons/electronic-sales-sep2023-sep2024\n",
    "2025-02-15 17:18 - INFO - ✅ Dataset downloaded successfully!\n",
    "   🔷 RAM after:  138.26 MB\n",
    "   ✅ RAM Processing Complete!           100%\n",
    "   🔼 RAM Change: 3.62% increase\n",
    "\n",
    "⏳ Function 'download_data' executed in 4.9498 seconds\n",
    "\n",
    "🖥️ Function '__call__':\n",
    "   🔷 RAM before: 138.26 MB\n",
    "2025-02-15 17:19 - INFO - 🔄 Extracting CSV file...  \n",
    "2025-02-15 17:19 - INFO - ✅ CSV file extracted successfully!    \n",
    "2025-02-15 17:19 - INFO - 🔄 Transforming columns into lowercase\n",
    "2025-02-15 17:19 - INFO - ✅ Columns successfully transformed    \n",
    "2025-02-15 17:19 - INFO - 🔄 Removing trailing spaces\n",
    "2025-02-15 17:19 - INFO - ✅ Trailing spaces successfully removed\n",
    "2025-02-15 17:19 - INFO - 🔄 Adding underscores\n",
    "2025-02-15 17:19 - INFO - ✅ Underscore successfully added       \n",
    "2025-02-15 17:19 - INFO - 🔄 Saving individual columns...       \n",
    "2025-02-15 17:19 - INFO - ✅ Saving individual columns successful!\n",
    "   🔷 RAM after:  149.42 MB\n",
    "   ✅ RAM Processing Complete!            100%\n",
    "   🔼 RAM Change: 8.07% increase\n",
    "\n",
    "⏳ Function '__call__' executed in 4.9835 seconds"
   ]
  }
 ],
 "metadata": {
  "kernelspec": {
   "display_name": "Python 3",
   "language": "python",
   "name": "python3"
  },
  "language_info": {
   "codemirror_mode": {
    "name": "ipython",
    "version": 3
   },
   "file_extension": ".py",
   "mimetype": "text/x-python",
   "name": "python",
   "nbconvert_exporter": "python",
   "pygments_lexer": "ipython3",
   "version": "3.13.0"
  }
 },
 "nbformat": 4,
 "nbformat_minor": 2
}
