{
 "cells": [
  {
   "cell_type": "code",
   "execution_count": null,
   "metadata": {
    "vscode": {
     "languageId": "sql"
    }
   },
   "outputs": [],
   "source": [
    "Function 'authenticate_kaggle' executed in 0.0040 seconds\n",
    "2025-02-10 23:52 - INFO - Downloading dataset...\n",
    "Dataset URL: \n",
    "2025-02-10 23:52 - INFO - Dataset downloaded successfully!\n",
    "Function 'download_data' executed in 2.5556 seconds\n",
    "2025-02-10 23:52 - INFO - Extracting CSV file...\n",
    "2025-02-10 23:52 - INFO - CSV file extracted successfully!\n",
    "Function 'extract_csv' executed in 0.0345 seconds\n",
    "2025-02-10 23:52 - INFO - Previewing data"
   ]
  },
  {
   "cell_type": "code",
   "execution_count": null,
   "metadata": {
    "vscode": {
     "languageId": "sql"
    }
   },
   "outputs": [],
   "source": [
    "2025-02-10 23:52 - INFO -\n",
    "   Customer ID  Age Gender Loyalty Member Product Type      SKU  ...  Unit Price Quantity Purchase Date  Shipping Type              Add-ons Purchased  Add-on Total\n",
    "0         1000   53   Male             No   Smartphone  SKU1004  ...      791.19        7    2024-03-20       Standard  Accessory,Accessory,Accessory         40.21\n",
    "1         1000   53   Male             No       Tablet  SKU1002  ...      247.03        3    2024-04-20      Overnight                   Impulse Item         26.09\n",
    "2         1002   41   Male             No       Laptop  SKU1005  ...      463.96        4    2023-10-17        Express                           <NA>          0.00\n",
    "3         1002   41   Male            Yes   Smartphone  SKU1004  ...      791.19        4    2024-08-09      Overnight      Impulse Item,Impulse Item         60.16\n",
    "4         1003   75   Male            Yes   Smartphone  SKU1001  ...       20.75        2    2024-05-21        Express                      Accessory         35.56"
   ]
  },
  {
   "cell_type": "code",
   "execution_count": null,
   "metadata": {
    "vscode": {
     "languageId": "sql"
    }
   },
   "outputs": [],
   "source": [
    "[5 rows x 16 columns]\n",
    "2025-02-10 23:52 - INFO - Data information\n",
    "<class 'pandas.core.frame.DataFrame'>\n",
    "RangeIndex: 20000 entries, 0 to 19999"
   ]
  },
  {
   "cell_type": "code",
   "execution_count": null,
   "metadata": {
    "vscode": {
     "languageId": "sql"
    }
   },
   "outputs": [],
   "source": [
    "Data columns (total 16 columns):\n",
    " #   Column             Non-Null Count  Dtype\n",
    "---  ------             --------------  -----\n",
    " 0   Customer ID        20000 non-null  int64\n",
    " 1   Age                20000 non-null  int64\n",
    " 2   Gender             19999 non-null  string\n",
    " 3   Loyalty Member     20000 non-null  string\n",
    " 4   Product Type       20000 non-null  string\n",
    " 5   SKU                20000 non-null  string\n",
    " 6   Rating             20000 non-null  int64\n",
    " 7   Order Status       20000 non-null  string\n",
    " 8   Payment Method     20000 non-null  string\n",
    " 9   Total Price        20000 non-null  float64\n",
    " 10  Unit Price         20000 non-null  float64\n",
    " 11  Quantity           20000 non-null  int64\n",
    " 12  Purchase Date      20000 non-null  string\n",
    " 13  Shipping Type      20000 non-null  string\n",
    " 14  Add-ons Purchased  15132 non-null  string\n",
    " 15  Add-on Total       20000 non-null  float64\n",
    "dtypes: float64(3), int64(4), string(9)\n",
    "memory usage: 3.9 MB"
   ]
  },
  {
   "cell_type": "code",
   "execution_count": null,
   "metadata": {
    "vscode": {
     "languageId": "sql"
    }
   },
   "outputs": [],
   "source": [
    "2025-02-10 23:52 - INFO - Data description\n",
    "        Customer ID           Age        Rating   Total Price    Unit Price      Quantity  Add-on Total\n",
    "count  20000.000000  20000.000000  20000.000000  20000.000000  20000.000000  20000.000000  20000.000000\n",
    "mean   10483.526550     48.994100      3.093950   3180.133419    578.631867      5.485550     62.244848\n",
    "std     5631.732525     18.038745      1.223764   2544.978675    312.274076      2.870854     58.058431\n",
    "min     1000.000000     18.000000      1.000000     20.750000     20.750000      1.000000      0.000000\n",
    "25%     5478.000000     33.000000      2.000000   1139.680000    361.180000      3.000000      7.615000\n",
    "50%    10499.500000     49.000000      3.000000   2534.490000    463.960000      5.000000     51.700000\n",
    "75%    15504.000000     65.000000      4.000000   4639.600000    791.190000      8.000000     93.842500\n",
    "max    19998.000000     80.000000      5.000000  11396.800000   1139.680000     10.000000    292.770000"
   ]
  },
  {
   "cell_type": "code",
   "execution_count": null,
   "metadata": {
    "vscode": {
     "languageId": "sql"
    }
   },
   "outputs": [],
   "source": [
    "2025-02-10 23:52 - INFO - Checking for missing data...\n",
    "2025-02-10 23:52 - INFO - Missing data found\n",
    "2025-02-10 23:52 - INFO - Saving missing_data to CSV file\n",
    "2025-02-10 23:52 - INFO - Data saved successfully!"
   ]
  }
 ],
 "metadata": {
  "kernelspec": {
   "display_name": "Python 3",
   "language": "python",
   "name": "python3"
  },
  "language_info": {
   "name": "python",
   "version": "3.13.0"
  }
 },
 "nbformat": 4,
 "nbformat_minor": 2
}
