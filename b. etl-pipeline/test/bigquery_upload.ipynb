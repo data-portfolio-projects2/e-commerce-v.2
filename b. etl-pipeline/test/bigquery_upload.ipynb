{
 "cells": [
  {
   "cell_type": "code",
   "execution_count": null,
   "metadata": {
    "vscode": {
     "languageId": "sql"
    }
   },
   "outputs": [],
   "source": [
    "2025-02-21 03:05 - INFO - 🔄 Filtering completed orders...\n",
    "2025-02-21 03:05 - INFO - object\n",
    "2025-02-21 03:05 - INFO - ✅ Completed orders successfully filtered!       \n",
    "2025-02-21 03:05 - INFO - 🔄 Transforming total price values to numeric...\n",
    "2025-02-21 03:05 - INFO - float64\n",
    "2025-02-21 03:05 - INFO - ✅ Total price values successfully transformed!\n",
    "2025-02-21 03:05 - INFO - 🔄 Transforming dates to datetime values...   \n",
    "2025-02-21 03:05 - INFO - datetime64[ns]\n",
    "2025-02-21 03:05 - INFO - ✅ Dates successfully transformed!        \n",
    "2025-02-21 03:05 - INFO - 🔄 Creating sales data...\n",
    "2025-02-21 03:05 - INFO - ✅ Sales data successfully created!       \n",
    "2025-02-21 03:05 - INFO - \n",
    "  order_id purchase_date order_status    sales\n",
    "1       A2    2024-04-20    Completed   741.09\n",
    "2       A3    2023-10-17    Completed  1855.84\n",
    "3       A4    2024-08-09    Completed  3164.76\n",
    "4       A5    2024-05-21    Completed    41.50\n",
    "5       A6    2024-05-26    Completed    83.00\n",
    "2025-02-21 03:05 - INFO - 🔄 Uploading DataFrame to BigQuery...    \n",
    "2025-02-21 03:05 - INFO - 🔄 Authenticating BigQuery credentials...\n",
    "2025-02-21 03:05 - INFO - ✅ BigQuery credentials successfully authenticated!\n",
    "2025-02-21 03:05 - INFO - 🔄 Creating BigQuery schema...\n",
    "2025-02-21 03:05 - INFO - ✅ BigQuery schema successfully created!\n",
    "  0%|                                                                                                                                                           | 0/1 [00:00<?, ?it/s]213432 out of 13432 rows loaded.\n",
    "100%|█████████████████████████████████████████████████████████████████████████████████████████████████████████████████████████████████████████████████| 1/1 [00:00<00:00, 1968.23it/s] \n",
    "2025-02-21 03:05 - INFO - ✅ DataFrame successfully uploaded to BigQuery: data-analysis-404209.sales_data.completed_orders\n",
    "None"
   ]
  }
 ],
 "metadata": {
  "kernelspec": {
   "display_name": "Python 3",
   "language": "python",
   "name": "python3"
  },
  "language_info": {
   "name": "python",
   "version": "3.13.0"
  }
 },
 "nbformat": 4,
 "nbformat_minor": 2
}
